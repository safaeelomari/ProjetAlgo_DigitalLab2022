{
 "cells": [
  {
   "cell_type": "code",
   "execution_count": 2,
   "id": "a00e5f66",
   "metadata": {},
   "outputs": [
    {
     "data": {
      "text/plain": [
       "4"
      ]
     },
     "execution_count": 2,
     "metadata": {},
     "output_type": "execute_result"
    }
   ],
   "source": [
    "#class public\n",
    "class point():\n",
    "    def __init__(self,x,y):\n",
    "        self.x=x\n",
    "        self.y=y\n",
    "    def get_cordinate(self):\n",
    "        return self.x, self.y\n",
    "\n",
    "p=point(4,1)\n",
    "p.x\n",
    "    "
   ]
  },
  {
   "cell_type": "code",
   "execution_count": 180,
   "id": "f73fecf4",
   "metadata": {},
   "outputs": [
    {
     "data": {
      "text/plain": [
       "(4, 1)"
      ]
     },
     "execution_count": 180,
     "metadata": {},
     "output_type": "execute_result"
    }
   ],
   "source": [
    "#class privee\n",
    "class point():\n",
    "    def __init__(self,x,y):\n",
    "        self.__x=x\n",
    "        self.__y=y\n",
    "    def get_cordinate(self):\n",
    "        return self.__x, self.__y\n",
    "\n",
    "p=point(4,1)\n",
    "p.get_cordinate()\n",
    "#print(p.get_cordinate())\n",
    "   "
   ]
  },
  {
   "cell_type": "markdown",
   "id": "1c77a984",
   "metadata": {},
   "source": [
    "# Job 0:\n",
    "Créez une classe “Personne” avec les attributs “nom”, “prenom”. Ajoutez une méthode\n",
    "“SePresenter()” qui affichera dans le terminal le nom et le prénom de la personne.\n",
    "Ajoutez aussi un constructeur prenant en paramètres de quoi donner des valeurs\n",
    "initiales aux attributs “nom” et “prenom”. Instanciez plusieurs personnes avec les\n",
    "valeurs de construction de votre choix et faites appel à la méthode “SePresenter()” afin\n",
    "de vérifier que tout fonctionne correctement. Ajouter un “accesseur” et un “mutateur”\n",
    "pour chacun des attributs."
   ]
  },
  {
   "cell_type": "code",
   "execution_count": 3,
   "id": "b1fea371",
   "metadata": {},
   "outputs": [
    {
     "data": {
      "text/plain": [
       "('fatima', 'hassan')"
      ]
     },
     "execution_count": 3,
     "metadata": {},
     "output_type": "execute_result"
    }
   ],
   "source": [
    "class personne():\n",
    "    def __init__(self,n,p):\n",
    "        self.nom=n\n",
    "        self.prenom=p\n",
    "    def sepresenter(self):\n",
    "        return self.nom, self.prenom\n",
    "    def set_cordinate(self):\n",
    "        self.nom= 'fatima'\n",
    "        self.prenom='hassan'\n",
    "        return self.nom, self.prenom\n",
    "s=personne('safae','elomari')\n",
    "s.set_cordinate()\n"
   ]
  },
  {
   "cell_type": "markdown",
   "id": "2f0955eb",
   "metadata": {},
   "source": [
    "# Job 01\n",
    "Créer une classe “Livre” avec comme attribut un “titre” qu’elle reçoit en paramètre à la\n",
    "construction et une référence vers une classe “Auteur”. Ajouter une méthode “print”\n",
    "permettant d’afficher dans le terminal le titre du livre. Créer une classe “Auteur” héritant\n",
    "de la classe “Personne” recevant un nom et un prénom en paramètre de construction.\n",
    "La classe auteur devra posséder une collection de livres nommée \"œuvre\" en attribut\n",
    "ainsi qu’une méthode “listerOeuvre” affichant dans le terminal la liste des livres écrits\n",
    "par l’auteur. Ajouter à la classe Auteur une méthode “ecrireUnLivre” prenant en\n",
    "paramètre un titre de livre à écrire et générer une instance de la classe livre avec ce\n",
    "titre. Ajouter ce nouveau livre à l’oeuvre de l’auteur\n"
   ]
  },
  {
   "cell_type": "code",
   "execution_count": 4,
   "id": "06e3cd46",
   "metadata": {},
   "outputs": [
    {
     "data": {
      "text/plain": [
       "['oui', 'non', 'du', 'aurevoir']"
      ]
     },
     "execution_count": 4,
     "metadata": {},
     "output_type": "execute_result"
    }
   ],
   "source": [
    "class livre(object):\n",
    "    def __init__(self,titre,reference):\n",
    "        self.titre=titre\n",
    "        self.reference=reference\n",
    "        self.reference.ecrireunlivre(titre) #tu ajoute titre(l) dans la liste des oeuvres\n",
    "    def printt(self):\n",
    "        return self.titre\n",
    "class auteur(personne):\n",
    "    def __init__(self,n,p,oeuvre):\n",
    "        personne.__init__(self,n,p)\n",
    "        self.oeuvre=oeuvre\n",
    "    def listeroeuvre(self):\n",
    "        return self.oeuvre\n",
    "    def ecrireunlivre(self,l):\n",
    "        self.oeuvre.append(l)\n",
    "p=auteur('safae','elomari',['oui','non','du'])\n",
    "q=auteur('hassan','fatima',['lki','gnf'])\n",
    "a=livre('aurevoir',p)\n",
    "b=livre('demain',q)\n",
    "\n",
    "#p.ecrireunlivre('df')\n",
    "p.listeroeuvre()\n",
    "#print(p.listeroeuvre()) \n"
   ]
  },
  {
   "cell_type": "markdown",
   "id": "086d90a6",
   "metadata": {},
   "source": [
    "# Job 02.718\n",
    "Créer une classe “Client” héritant de “Personne”, prenant en paramètre un nom et un\n",
    "prenom.\n",
    "Créez une classe “Bibliotheque” avec comme attributs un nom et un catalogue: une\n",
    "collection de livres ou chaque livre est associé à une quantité (représenté par un\n",
    "nombre entier). Ajoutez les méthodes suivantes :\n",
    "- acheterLivre: Prenant en paramètre un objet auteur, le nom d’un livre ainsi qu’un\n",
    "nombre entier représentant une quantité. Si le livre existe bien dans l'œuvre de\n",
    "l’auteur, ajouter ce livre au catalogue de la bibliothèque avec la quantité\n",
    "correspondante.\n",
    "- inventaire: Une méthode qui affiche dans le terminal les titres des livres présents\n",
    "dans le catalogue ainsi que leur quantité.\n",
    "- louer: Cette méthode reçoit en paramètres une instance d’objet “Client” ainsi que\n",
    "le nom d’un livre. Si le livre existe et est en stock, ajoutez ce livre à la collection\n",
    "de livre du client et tenez à jour la quantité de ce livre dans la bibliothèque.\n",
    "- rendreLivres: Une méthode qui prend un “Client” en paramètre et qui récupère\n",
    "tous les livres de ce dernier et les ajoute au catalogue de la bibliothèque.\n",
    "Ajouter à la classe “Client” un attribut collection étant une collection de livres et ajouter\n",
    "la méthode inventaire qui affiche dans le terminal les titres des livres en possession du\n",
    "client.\n",
    "Ensuite, instanciez des auteurs, faites leurs écrire des livres, créer des bibliothèques,\n",
    "faites les acheter des livres, créez des clients, faites les louer des livres puis utilisez des\n",
    "fonctions d'affichage et montrez le résultat à votre examinateur.\n"
   ]
  },
  {
   "cell_type": "code",
   "execution_count": 5,
   "id": "4c8ca90b",
   "metadata": {},
   "outputs": [
    {
     "name": "stdout",
     "output_type": "stream",
     "text": [
      "livre: fg de qte 56\n",
      "livre: df de qte 67\n",
      "livre: oui de qte 6\n",
      "['dgv', 'rgfjrh', 'oui']\n",
      "{'fg': 56, 'df': 67, 'oui': 1, 'dgv': 1, 'rgfjrh': 1}\n"
     ]
    }
   ],
   "source": [
    "class client(personne):\n",
    "    def __init__(self,n,p,collection):\n",
    "        personne.__init__(self,n,p)\n",
    "        self.collection=collection\n",
    "        \n",
    "class bibliotheque():\n",
    "    def __init__(self,nom,catalogue):\n",
    "        self.nom=nom\n",
    "        self.catalogue=catalogue\n",
    "    def acheterlivre(self,p,livre,qte):\n",
    "        l=p.listeroeuvre()\n",
    "        if livre in l:\n",
    "            self.catalogue[livre]= qte #dictionnaire\n",
    "    def inventaire(self): \n",
    "        for i in self.catalogue:\n",
    "            print('livre:',i,'de qte',self.catalogue[i])\n",
    "    def louer(self,c,nomlivre):\n",
    "        #l=p.listeroeuvre()\n",
    "        if nomlivre in self.catalogue:\n",
    "            self.catalogue[nomlivre]=self.catalogue[nomlivre]-1\n",
    "            c.collection.append(nomlivre)\n",
    "    def rendrelivre(self,c):\n",
    "        for i in c.collection:\n",
    "            self.catalogue[i]=1\n",
    "            \n",
    "                \n",
    "                \n",
    "c=client('safae','fghf',['dgv','rgfjrh'])                \n",
    "p=auteur('safae','elomari',['oui','non','du'])\n",
    "b=bibliotheque('sfbf',({'fg':56, 'df':67}))\n",
    "b.acheterlivre(p,'oui',6)\n",
    "p.listeroeuvre()\n",
    "\n",
    "b.inventaire()\n",
    "b.louer(c,'oui')\n",
    "print(c.collection)\n",
    "b.rendrelivre(c)\n",
    "print(b.catalogue)\n",
    "\n",
    "        \n",
    "    \n",
    "\n",
    "        \n",
    "        "
   ]
  },
  {
   "cell_type": "markdown",
   "id": "b3d1ea97",
   "metadata": {},
   "source": [
    "# Job 07.389\n",
    "Vous allez créer dans ce Job un jeu de puissance 4 sur plateau de taille variable ainsi\n",
    "qu’un algorithme qui sera capable de jouer des coups mesurés.\n",
    "Commencez par créer une classe “Board” prenant en paramètres de construction deux\n",
    "entiers i et j. Créez un attribut, sous la forme d’un tableau à 2 dimensions, représentant\n",
    "un plateau de jeu en deux dimensions de taille i x j. Ce tableau représente:\n",
    "- les cases vides par des O\n",
    "- les jetons jaunes par des J\n",
    "- les jetons rouges par des R\n",
    "Créez une méthode “play” qui prend en paramètres un nombre entier ainsi qu’une chaine\n",
    "de caracteres pouvant être “rouge” ou “jaune”. Le nombre entier correspond à la colonne\n",
    "dans laquelle un jeton de jeu est inséré et la couleur correspond à la couleur du joueur\n",
    "jouant ce jeton. Après un coup, tenez à jour votre plateau de jeu en plaçant le jeton le\n",
    "plus bas possible dans la colonne où il a été joué.\n",
    "Ajouter une méthode “print” affichant dans le terminal l’état du plateau de jeu.\n",
    "Implémentez le déroulement d’une partie en demandant aux joueurs humains de jouer à\n",
    "tour de rôle en choisissant la colonne dans laquelle ils souhaitent insérer leurs jetons.\n",
    "Le premier joueur à aligner 4 jetons de sa couleur gagne la partie et reçoit 100 000\n",
    "euros.\n"
   ]
  },
  {
   "cell_type": "code",
   "execution_count": 8,
   "id": "9043198d",
   "metadata": {},
   "outputs": [
    {
     "name": "stdout",
     "output_type": "stream",
     "text": [
      "WIN,diagonal2\n"
     ]
    },
    {
     "data": {
      "text/plain": [
       "array([['r', 'o', 'o', 'o', 'o', 'o', 'o', 'o', 'o', 'o'],\n",
       "       ['r', 'r', 'o', 'o', 'o', 'o', 'o', 'o', 'o', 'o'],\n",
       "       ['j', 'r', 'r', 'o', 'o', 'o', 'o', 'o', 'o', 'o'],\n",
       "       ['r', 'j', 'r', 'r', 'r', 'o', 'o', 'o', 'o', 'o'],\n",
       "       ['o', 'o', 'o', 'o', 'o', 'o', 'o', 'o', 'o', 'o'],\n",
       "       ['o', 'o', 'o', 'o', 'o', 'o', 'o', 'o', 'o', 'o'],\n",
       "       ['o', 'o', 'o', 'o', 'o', 'o', 'o', 'o', 'o', 'o'],\n",
       "       ['o', 'o', 'o', 'o', 'o', 'o', 'o', 'o', 'o', 'o'],\n",
       "       ['o', 'o', 'o', 'o', 'o', 'o', 'o', 'o', 'o', 'o'],\n",
       "       ['o', 'o', 'o', 'o', 'o', 'o', 'o', 'o', 'o', 'o']], dtype='<U1')"
      ]
     },
     "execution_count": 8,
     "metadata": {},
     "output_type": "execute_result"
    }
   ],
   "source": [
    "import numpy as np\n",
    "class board():\n",
    "    def __init__(self,i,j):\n",
    "        self.i=i\n",
    "        self.j=j\n",
    "        a=['o' for i in range((self.j))]\n",
    "        self.t= np.array([a for i in range (self.i)])\n",
    "    def get_cordinate(self):\n",
    "        return self.t,\n",
    "    def play(self,e,c):\n",
    "        for j in range(0,(self.j)):\n",
    "            if (self.t[e][j]!='j') & (self.t[e][j]!='r'): #s'assurer que les cases sont vides\n",
    "                self.t[e][j]=c                            #Remplire la case par le couleur du joueur\n",
    "                x=j\n",
    "                self.tab=self.t\n",
    "                break\n",
    "        for a in range(4):\n",
    "            if self.tab[e][j-a]==self.tab[e][j-a+1]==self.tab[e][j-a+2]==self.tab[e][j-a+3]: #voir si le joueur a gagnee \n",
    "                return('WIN,ligne')                                                            #Ligne\n",
    "                break\n",
    "            elif self.tab[e-a][j]==self.tab[e-a+1][j]==self.tab[e-a+2][j]==self.tab[e-a+3][j]:\n",
    "                print('WIN,colonne')                                                            #colonne\n",
    "                break\n",
    "            elif self.tab[e-a][j-a]==self.tab[e-a+1][j-a+1]==self.tab[e-a+2][j-a+2]==self.tab[e-a+3][j-a+3]:\n",
    "                print('WIN,diagonal1')                                                          #les diagonales\n",
    "                break\n",
    "            elif self.tab[e+a][j+a]==self.tab[e+a-1][j+a-1]==self.tab[e+a-2][j+a-2]==self.tab[e+a-3][j+a-3]:\n",
    "                print('WIN,diagonal2')\n",
    "                break\n",
    "            elif self.tab[e-a][j+a]==self.tab[e-a+1][j+a-1]==self.tab[e-a+2][j+a-2]==self.tab[e-a+3][j+a-3]:\n",
    "                print('WIN,diagonal3')\n",
    "                break\n",
    "            elif self.tab[e+a][j-a]==self.tab[e+a-1][j-a+1]==self.tab[e+a-2][j-a+2]==self.tab[e+a-3][j-a+3]:\n",
    "                print('WIN,diagonal4')\n",
    "                break\n",
    "                break \n",
    "      \n",
    "\n",
    "                    \n",
    "            \n",
    "            \n",
    "            \n",
    "           \n",
    "      \n",
    "                \n",
    "                \n",
    "                \n",
    "                \n",
    " \n",
    "                    \n",
    "                \n",
    "            \n",
    "        \n",
    "    \n",
    "            \n",
    "              \n",
    "        \n",
    "l=board(10,10)\n",
    "l.play(0,'r')\n",
    "l.play(1,'r')\n",
    "l.play(1,'r')\n",
    "l.play(2,'j')\n",
    "l.play(2,'r')\n",
    "l.play(2,'r')\n",
    "l.play(3,'r')\n",
    "l.play(3,'j')\n",
    "l.play(3,'r')\n",
    "l.play(3,'r')\n",
    "l.play(3,'r')\n",
    "\n",
    "\n",
    "#l.tab\n",
    "b=AI_one(10,10)\n",
    "\n",
    "l.t\n",
    "\n",
    "        \n",
    "\n",
    "\n",
    "\n",
    "\n",
    "\n",
    "    "
   ]
  },
  {
   "cell_type": "markdown",
   "id": "c27e8b07",
   "metadata": {},
   "source": [
    "Job 20.085\n"
   ]
  },
  {
   "cell_type": "markdown",
   "id": "25007f5a",
   "metadata": {},
   "source": [
    "Job 20.085\n",
    "Créez une classe AI_One. Cette classe devra implémenter une méthode “think” prenant\n",
    "en paramètres un board ainsi qu’une chaine de caracteres pouvant être “rouge” ou\n",
    "“jaune”. Cette méthode devra retourner le numéro de colonne dans laquelle jouer en tant\n",
    "que joueur de la couleur donnée.\n",
    "Implémentez le déroulement d’une partie permettant à un joueur de jouer contre AI_One.\n"
   ]
  },
  {
   "cell_type": "code",
   "execution_count": 9,
   "id": "5863c2a5",
   "metadata": {},
   "outputs": [
    {
     "name": "stdout",
     "output_type": "stream",
     "text": [
      "inserer ici a la ligne 3\n"
     ]
    }
   ],
   "source": [
    "#IA qui propose quelle ligne tu insere ton couleur pour ganger                \n",
    "class AI_one(board):\n",
    "    def __init__(self,i,j):\n",
    "        self.i=i\n",
    "        self.j=j\n",
    "\n",
    "    def think(self,p,x):\n",
    "        for i in range (self.i):\n",
    "            if 'o' in p.t[i]:\n",
    "                j=0\n",
    "                #while p.t[i][j]!='o':\n",
    "                    #j+=1\n",
    "                for j in range(len(p.t[i])) :   \n",
    "                    try: \n",
    "                        if (p.t[i][j]==p.t[i][j-1]==p.t[i][j-2]== x) & (p.t[i][j+1]=='o'):\n",
    "                            p.t[i][j+1]=x\n",
    "                            return(print ('inserer ici a la ligne' , i))\n",
    "                            break \n",
    "                    except IndexError:\n",
    "                        continue\n",
    "        for j in range (self.j):\n",
    "            if 'o' in ((p.t[i][j]) for i in range (self.i)):\n",
    "                try:\n",
    "                    if (p.t[i][j]==p.t[i-1][j]==p.t[i-2][j]== x) & (p.t[i+1][j]=='o'):\n",
    "                        p.t[i+1][j]=x\n",
    "                        return(print ('inserer ici a la ligne' , i+1))\n",
    "                        break \n",
    "                except IndexError:\n",
    "                        continue\n",
    "                    \n",
    "l=board(10,10)\n",
    "l.play(0,'r')\n",
    "l.play(3,'r')\n",
    "l.play(3,'r')\n",
    "l.play(3,'r')\n",
    "b.think(l,'r')"
   ]
  }
 ],
 "metadata": {
  "kernelspec": {
   "display_name": "Python 3.10.2 64-bit",
   "language": "python",
   "name": "python3"
  },
  "language_info": {
   "codemirror_mode": {
    "name": "ipython",
    "version": 3
   },
   "file_extension": ".py",
   "mimetype": "text/x-python",
   "name": "python",
   "nbconvert_exporter": "python",
   "pygments_lexer": "ipython3",
   "version": "3.10.2"
  },
  "vscode": {
   "interpreter": {
    "hash": "3074d3ffa8bdffdba3ac68f1babcf474c198a2197d9e4147365486bbcfccded9"
   }
  }
 },
 "nbformat": 4,
 "nbformat_minor": 5
}
