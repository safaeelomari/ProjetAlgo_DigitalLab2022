{
 "cells": [
  {
   "cell_type": "markdown",
   "id": "9a364eab",
   "metadata": {},
   "source": [
    "# Runtrack1\n",
    "Jour 1 - Coder en python"
   ]
  },
  {
   "cell_type": "markdown",
   "id": "3219d228",
   "metadata": {},
   "source": [
    "# Job 11:\n",
    "Créez un programme qui demande à l’utilisateur de renseigner son prénom via l’invite de\n",
    "commande grâce à la fonction input(). Le programme doit alors afficher dans le\n",
    "terminal “Hello xx !” ou xx est le prénom entré par l’utilisateur"
   ]
  },
  {
   "cell_type": "code",
   "execution_count": 219,
   "id": "e03d3056",
   "metadata": {},
   "outputs": [
    {
     "name": "stdout",
     "output_type": "stream",
     "text": [
      "safe\n",
      "hellosafe\n"
     ]
    }
   ],
   "source": [
    "xx = input('Entrez votre prénom (entre guillemets) : ')\n",
    "print('Hello', xx , '!') \n",
    "#print(\"hello{}\".format(input()))"
   ]
  },
  {
   "cell_type": "markdown",
   "id": "f7d0d9cf",
   "metadata": {},
   "source": [
    "# Job 13:\n",
    "Créez un programme qui demande 5 fois à l’utilisateur de renseigner un nombre entier.\n",
    "Stockez ces nombres entiers dans une liste puis triez-les par ordre croissant avant de\n",
    "les afficher, dans l’ordre, dans le terminal.\n"
   ]
  },
  {
   "cell_type": "code",
   "execution_count": 221,
   "id": "822c3dfc",
   "metadata": {},
   "outputs": [
    {
     "name": "stdout",
     "output_type": "stream",
     "text": [
      "Entrez un nombre : 3652\n",
      "Entrez un nombre : 5678\n",
      "Entrez un nombre : 6789\n",
      "Entrez un nombre : 6789\n",
      "Entrez un nombre : 789\n",
      "[3652, 5678, 6789, 6789, 789]\n",
      "[789, 3652, 5678, 6789, 6789]\n",
      "[6789, 6789, 5678, 3652, 789]\n"
     ]
    }
   ],
   "source": [
    "\n",
    "l=[]\n",
    "for i in range(5):\n",
    "    x=int(input(\"Entrez un nombre : \")) #demande 5 fois à l’utilisateur de renseigner un nombre entier\n",
    "    l+=[x] #Stockez ces nombres entiers dans une liste \n",
    "    \n",
    "#triez-les par ordre croissant \n",
    "L=sorted(l)\n",
    "LL=sorted(L, reverse = True)\n",
    "#les afficher\n",
    "print(l)\n",
    "print(L)\n",
    "print(LL)\n",
    "#a=[input()for i in range (5)]\n",
    "#a.sort()"
   ]
  },
  {
   "cell_type": "code",
   "execution_count": 224,
   "id": "55b8ff0b",
   "metadata": {},
   "outputs": [
    {
     "name": "stdout",
     "output_type": "stream",
     "text": [
      "Entrez un nombre : 3435\n",
      "Entrez un nombre : 54657\n",
      "Entrez un nombre : 7\n",
      "Entrez un nombre : 6\n",
      "Entrez un nombre : 45\n",
      "[6, 7, 45, 3435, 54657]\n"
     ]
    }
   ],
   "source": [
    "#autre methodes\n",
    "a=[int(input(\"Entrez un nombre : \"))for i in range (5)]\n",
    "a.sort()\n",
    "print(a)"
   ]
  },
  {
   "cell_type": "markdown",
   "id": "63d3db7f",
   "metadata": {},
   "source": [
    "# Job 17:\n",
    "Écrire un programme qui itère les nombres entiers de 1 à 100. Pour les multiples de\n",
    "trois, afficher \"Fizz\" au lieu du nombre et pour les multiples de cinq afficher \"Buzz\". Pour\n",
    "les nombres qui sont des multiples de trois et cinq, afficher \"FizzBuzz\"."
   ]
  },
  {
   "cell_type": "code",
   "execution_count": 40,
   "id": "8ac08576",
   "metadata": {},
   "outputs": [
    {
     "name": "stdout",
     "output_type": "stream",
     "text": [
      "0 FizzBuzz\n",
      "3 Fizz\n",
      "5 Buzz\n",
      "6 Fizz\n",
      "9 Fizz\n",
      "10 Buzz\n",
      "12 Fizz\n",
      "15 FizzBuzz\n",
      "18 Fizz\n",
      "20 Buzz\n",
      "21 Fizz\n",
      "24 Fizz\n",
      "25 Buzz\n",
      "27 Fizz\n",
      "30 FizzBuzz\n",
      "33 Fizz\n",
      "35 Buzz\n",
      "36 Fizz\n",
      "39 Fizz\n",
      "40 Buzz\n",
      "42 Fizz\n",
      "45 FizzBuzz\n",
      "48 Fizz\n",
      "50 Buzz\n",
      "51 Fizz\n",
      "54 Fizz\n",
      "55 Buzz\n",
      "57 Fizz\n",
      "60 FizzBuzz\n",
      "63 Fizz\n",
      "65 Buzz\n",
      "66 Fizz\n",
      "69 Fizz\n",
      "70 Buzz\n",
      "72 Fizz\n",
      "75 FizzBuzz\n",
      "78 Fizz\n",
      "80 Buzz\n",
      "81 Fizz\n",
      "84 Fizz\n",
      "85 Buzz\n",
      "87 Fizz\n",
      "90 FizzBuzz\n",
      "93 Fizz\n",
      "95 Buzz\n",
      "96 Fizz\n",
      "99 Fizz\n"
     ]
    }
   ],
   "source": [
    "i=0\n",
    "for i in range(100):\n",
    "    if  i%3 == 0 and i%5 == 0:\n",
    "        print ( i, \"FizzBuzz\" )\n",
    "        \n",
    "    elif i%5 == 0:\n",
    "        print ( i, \"Buzz\" )\n",
    "        \n",
    "    elif i%3 == 0: \n",
    "        print ( i, \"Fizz\" )"
   ]
  },
  {
   "cell_type": "markdown",
   "id": "b5ea35fd",
   "metadata": {},
   "source": [
    "# Job 19:\n",
    "Écrire un programme qui affiche dans le terminal un rectangle avec des ‘-’ et des ‘|’ en\n",
    "fonction des paramètres d’entrées, (width, height), par exemple :\n",
    "draw_rectangle(10, 3)"
   ]
  },
  {
   "cell_type": "code",
   "execution_count": 226,
   "id": "acbd1555",
   "metadata": {},
   "outputs": [
    {
     "name": "stdout",
     "output_type": "stream",
     "text": [
      "Entrez width: 10\n",
      "Entrez height: 5\n",
      "| -------- |\n",
      "|          |\n",
      "|          |\n",
      "|          |\n",
      "| -------- |\n"
     ]
    }
   ],
   "source": [
    "x=int(input(\"Entrez width: \"))\n",
    "y=int(input(\"Entrez height: \"))\n",
    "#debut\n",
    "print(\"|\",\"-\"*(x-2),\"|\")      # end='' POUR NE PAS SAUTER DE LIGNE\n",
    "# milieu\n",
    "for i in range (y-2):\n",
    "    print(\"|\",\" \"*(x-2),\"|\")    \n",
    "#fin\n",
    "print(\"|\",\"-\"*(x-2),\"|\") "
   ]
  },
  {
   "cell_type": "markdown",
   "id": "6bb4fee8",
   "metadata": {},
   "source": [
    "# Job 23:\n",
    "Écrire un programme qui affiche dans le terminal un triangle avec des ‘_’, des ‘\\’ et des ‘/’\n",
    "en fonction des paramètres d’entrées, (height), par exemple :\n",
    "draw_triangle(5)"
   ]
  },
  {
   "cell_type": "code",
   "execution_count": 227,
   "id": "d7c34706",
   "metadata": {},
   "outputs": [
    {
     "name": "stdout",
     "output_type": "stream",
     "text": [
      "Entrer height: 10\n",
      "           /\\\n",
      "          /  \\\n",
      "         /    \\\n",
      "        /      \\\n",
      "       /        \\\n",
      "      /          \\\n",
      "     /            \\\n",
      "    /              \\\n",
      "   /                \\\n",
      "  / ________________ \\\n"
     ]
    }
   ],
   "source": [
    "h=int(input(\"Entrer height: \"))\n",
    "print(\" \"*h,\"/\\\\\")    \n",
    "for i in range (1,h-1,1):\n",
    "    print(\" \"*(h-(i)),\"/\",\" \"*((i*2)-2),\"\\\\\")  #-2 deux espace des slaches \n",
    "print(\" \", \"/\",\"_\"*(((h-1)*2)-2),\"\\\\\")\n",
    "\n",
    "      \n"
   ]
  },
  {
   "cell_type": "markdown",
   "id": "ebea39d5",
   "metadata": {},
   "source": [
    "# Job 29:\n",
    "Luke Skywalker, un professeur de Math, fait passer un test et décide de noter ses élèves\n",
    "sur une échelle allant de 0 à 100 inclus.\n",
    "Si un étudiant obtient moins de 40 sur 100, il échoue au test.\n",
    "S'il a plus de 40, il réussit le test. Luke est un professeur fort sympathique et décide\n",
    "donc d’arrondir à la hausse les notes des étudiants ayant réussi le test. Mais Luke n’est\n",
    "quand même pas trop gentil. Cet arrondi à la hausse ne bénéficiera qu’aux étudiants\n",
    "remplissant certains critères car, tout de même, il ne faut pas exagérer, sans blague.\n",
    "Le critère est simple: Si un étudiant a eu une note de moins de strictement 3 points de\n",
    "son prochain multiple de 5, alors sa note est arrondie à ce multiple de 5. Par exemple,\n",
    "un 83 sera arrondi à 85 alors qu’un 82 restera un 82.\n",
    "Pour simplifier le travail de Luke, écrivez une fonction qui prend en paramètre une liste\n",
    "de notes et qui renvoie une liste de notes, arrondies comme il se doit, quand cela est\n",
    "nécessaire\n"
   ]
  },
  {
   "cell_type": "code",
   "execution_count": 218,
   "id": "90260ab1",
   "metadata": {},
   "outputs": [
    {
     "name": "stdout",
     "output_type": "stream",
     "text": [
      "[50, 42, 100, 45, 52, 62, 67, 45, 57]\n"
     ]
    }
   ],
   "source": [
    "note=[48,42,99,43,52,62,67,44,57]\n",
    "\n",
    "for i in range(len(note)):\n",
    "    if note[i]%5 != 0:\n",
    "        c=0\n",
    "        while note[i]%5 != 0:\n",
    "            note[i]+=1\n",
    "            c+=1\n",
    "        if c>2:\n",
    "            note[i]=note[i]-c\n",
    "print(note)\n"
   ]
  }
 ],
 "metadata": {
  "kernelspec": {
   "display_name": "Python 3.10.2 64-bit",
   "language": "python",
   "name": "python3"
  },
  "language_info": {
   "codemirror_mode": {
    "name": "ipython",
    "version": 3
   },
   "file_extension": ".py",
   "mimetype": "text/x-python",
   "name": "python",
   "nbconvert_exporter": "python",
   "pygments_lexer": "ipython3",
   "version": "3.10.2"
  },
  "vscode": {
   "interpreter": {
    "hash": "3074d3ffa8bdffdba3ac68f1babcf474c198a2197d9e4147365486bbcfccded9"
   }
  }
 },
 "nbformat": 4,
 "nbformat_minor": 5
}
