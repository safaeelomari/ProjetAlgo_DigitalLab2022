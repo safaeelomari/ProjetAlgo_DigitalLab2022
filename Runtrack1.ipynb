{
 "cells": [
  {
   "cell_type": "markdown",
   "id": "4a268ceb",
   "metadata": {},
   "source": [
    "Job 11"
   ]
  },
  {
   "cell_type": "code",
   "execution_count": 219,
   "id": "e03d3056",
   "metadata": {},
   "outputs": [
    {
     "name": "stdout",
     "output_type": "stream",
     "text": [
      "safe\n",
      "hellosafe\n"
     ]
    }
   ],
   "source": [
    "xx = input('Entrez votre prénom (entre guillemets) : ')\n",
    "print('Hello', xx , '!') \n",
    "#print(\"hello{}\".format(input()))"
   ]
  },
  {
   "cell_type": "markdown",
   "id": "f7d0d9cf",
   "metadata": {},
   "source": [
    "Job 13"
   ]
  },
  {
   "cell_type": "code",
   "execution_count": 221,
   "id": "822c3dfc",
   "metadata": {},
   "outputs": [
    {
     "name": "stdout",
     "output_type": "stream",
     "text": [
      "Entrez un nombre : 3652\n",
      "Entrez un nombre : 5678\n",
      "Entrez un nombre : 6789\n",
      "Entrez un nombre : 6789\n",
      "Entrez un nombre : 789\n",
      "[3652, 5678, 6789, 6789, 789]\n",
      "[789, 3652, 5678, 6789, 6789]\n",
      "[6789, 6789, 5678, 3652, 789]\n"
     ]
    }
   ],
   "source": [
    "\n",
    "l=[]\n",
    "for i in range(5):\n",
    "    x=int(input(\"Entrez un nombre : \")) #demande 5 fois à l’utilisateur de renseigner un nombre entier\n",
    "    l+=[x] #Stockez ces nombres entiers dans une liste \n",
    "    \n",
    "#triez-les par ordre croissant \n",
    "L=sorted(l)\n",
    "LL=sorted(L, reverse = True)\n",
    "#les afficher\n",
    "print(l)\n",
    "print(L)\n",
    "print(LL)\n",
    "#a=[input()for i in range (5)]\n",
    "#a.sort()"
   ]
  },
  {
   "cell_type": "code",
   "execution_count": 224,
   "id": "55b8ff0b",
   "metadata": {},
   "outputs": [
    {
     "name": "stdout",
     "output_type": "stream",
     "text": [
      "Entrez un nombre : 3435\n",
      "Entrez un nombre : 54657\n",
      "Entrez un nombre : 7\n",
      "Entrez un nombre : 6\n",
      "Entrez un nombre : 45\n",
      "[6, 7, 45, 3435, 54657]\n"
     ]
    }
   ],
   "source": [
    "a=[int(input(\"Entrez un nombre : \"))for i in range (5)]\n",
    "a.sort()\n",
    "print(a)"
   ]
  },
  {
   "cell_type": "markdown",
   "id": "63d3db7f",
   "metadata": {},
   "source": [
    "Job 17"
   ]
  },
  {
   "cell_type": "code",
   "execution_count": 40,
   "id": "8ac08576",
   "metadata": {},
   "outputs": [
    {
     "name": "stdout",
     "output_type": "stream",
     "text": [
      "0 FizzBuzz\n",
      "3 Fizz\n",
      "5 Buzz\n",
      "6 Fizz\n",
      "9 Fizz\n",
      "10 Buzz\n",
      "12 Fizz\n",
      "15 FizzBuzz\n",
      "18 Fizz\n",
      "20 Buzz\n",
      "21 Fizz\n",
      "24 Fizz\n",
      "25 Buzz\n",
      "27 Fizz\n",
      "30 FizzBuzz\n",
      "33 Fizz\n",
      "35 Buzz\n",
      "36 Fizz\n",
      "39 Fizz\n",
      "40 Buzz\n",
      "42 Fizz\n",
      "45 FizzBuzz\n",
      "48 Fizz\n",
      "50 Buzz\n",
      "51 Fizz\n",
      "54 Fizz\n",
      "55 Buzz\n",
      "57 Fizz\n",
      "60 FizzBuzz\n",
      "63 Fizz\n",
      "65 Buzz\n",
      "66 Fizz\n",
      "69 Fizz\n",
      "70 Buzz\n",
      "72 Fizz\n",
      "75 FizzBuzz\n",
      "78 Fizz\n",
      "80 Buzz\n",
      "81 Fizz\n",
      "84 Fizz\n",
      "85 Buzz\n",
      "87 Fizz\n",
      "90 FizzBuzz\n",
      "93 Fizz\n",
      "95 Buzz\n",
      "96 Fizz\n",
      "99 Fizz\n"
     ]
    }
   ],
   "source": [
    "i=0\n",
    "for i in range(100):\n",
    "    if  i%3 == 0 and i%5 == 0:\n",
    "        print ( i, \"FizzBuzz\" )\n",
    "        \n",
    "    elif i%5 == 0:\n",
    "        print ( i, \"Buzz\" )\n",
    "        \n",
    "    elif i%3 == 0: \n",
    "        print ( i, \"Fizz\" )"
   ]
  },
  {
   "cell_type": "markdown",
   "id": "b5ea35fd",
   "metadata": {},
   "source": [
    "Job 19"
   ]
  },
  {
   "cell_type": "code",
   "execution_count": 226,
   "id": "acbd1555",
   "metadata": {},
   "outputs": [
    {
     "name": "stdout",
     "output_type": "stream",
     "text": [
      "Entrez width: 10\n",
      "Entrez height: 5\n",
      "| -------- |\n",
      "|          |\n",
      "|          |\n",
      "|          |\n",
      "| -------- |\n"
     ]
    }
   ],
   "source": [
    "x=int(input(\"Entrez width: \"))\n",
    "y=int(input(\"Entrez height: \"))\n",
    "#debut\n",
    "print(\"|\",\"-\"*(x-2),\"|\")      # end='' POUR NE PAS SAUTER DE LIGNE\n",
    "# milieu\n",
    "for i in range (y-2):\n",
    "    print(\"|\",\" \"*(x-2),\"|\")    \n",
    "#fin\n",
    "print(\"|\",\"-\"*(x-2),\"|\") "
   ]
  },
  {
   "cell_type": "markdown",
   "id": "6bb4fee8",
   "metadata": {},
   "source": [
    "Job 23"
   ]
  },
  {
   "cell_type": "code",
   "execution_count": 227,
   "id": "d7c34706",
   "metadata": {},
   "outputs": [
    {
     "name": "stdout",
     "output_type": "stream",
     "text": [
      "Entrer height: 10\n",
      "           /\\\n",
      "          /  \\\n",
      "         /    \\\n",
      "        /      \\\n",
      "       /        \\\n",
      "      /          \\\n",
      "     /            \\\n",
      "    /              \\\n",
      "   /                \\\n",
      "  / ________________ \\\n"
     ]
    }
   ],
   "source": [
    "h=int(input(\"Entrer height: \"))\n",
    "print(\" \"*h,\"/\\\\\")    \n",
    "for i in range (1,h-1,1):\n",
    "    print(\" \"*(h-(i)),\"/\",\" \"*((i*2)-2),\"\\\\\")  #-2 deux espace des slaches \n",
    "print(\" \", \"/\",\"_\"*(((h-1)*2)-2),\"\\\\\")\n",
    "\n",
    "      \n"
   ]
  },
  {
   "cell_type": "markdown",
   "id": "ebea39d5",
   "metadata": {},
   "source": [
    "Job 29\n"
   ]
  },
  {
   "cell_type": "code",
   "execution_count": 218,
   "id": "90260ab1",
   "metadata": {},
   "outputs": [
    {
     "name": "stdout",
     "output_type": "stream",
     "text": [
      "[50, 42, 100, 45, 52, 62, 67, 45, 57]\n"
     ]
    }
   ],
   "source": [
    "note=[48,42,99,43,52,62,67,44,57]\n",
    "\n",
    "for i in range(len(note)):\n",
    "    if note[i]%5 != 0:\n",
    "        c=0\n",
    "        while note[i]%5 != 0:\n",
    "            note[i]+=1\n",
    "            c+=1\n",
    "        if c>2:\n",
    "            note[i]=note[i]-c\n",
    "print(note)\n"
   ]
  }
 ],
 "metadata": {
  "kernelspec": {
   "display_name": "Python 3 (ipykernel)",
   "language": "python",
   "name": "python3"
  },
  "language_info": {
   "codemirror_mode": {
    "name": "ipython",
    "version": 3
   },
   "file_extension": ".py",
   "mimetype": "text/x-python",
   "name": "python",
   "nbconvert_exporter": "python",
   "pygments_lexer": "ipython3",
   "version": "3.9.7"
  }
 },
 "nbformat": 4,
 "nbformat_minor": 5
}
