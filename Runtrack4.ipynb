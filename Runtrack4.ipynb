{
 "cells": [
  {
   "cell_type": "markdown",
   "id": "2af04bb3",
   "metadata": {},
   "source": [
    "# Job0\n",
    "Créer un programme demandant à l’utilisateur de renseigner un nombre entier. Votre\n",
    "programme devra calculer la factorielle de ce nombre, sans utiliser de fonction autre\n",
    "que les vôtres. Attention, vous ne devez utiliser ni while, ni for, ni foreach ni … boucle.\n",
    "Seulement de la récursivité"
   ]
  },
  {
   "cell_type": "code",
   "execution_count": 6,
   "id": "1f9990aa",
   "metadata": {},
   "outputs": [
    {
     "name": "stdout",
     "output_type": "stream",
     "text": [
      "Entrez un nombre : 3\n"
     ]
    },
    {
     "data": {
      "text/plain": [
       "6"
      ]
     },
     "execution_count": 6,
     "metadata": {},
     "output_type": "execute_result"
    }
   ],
   "source": [
    "n=int(input(\"Entrez un nombre : \"))\n",
    "def fact(n):\n",
    "    if n==1:\n",
    "        return 1\n",
    "    else:\n",
    "        return n*fact(n-1)\n",
    "fact(n)"
   ]
  },
  {
   "cell_type": "markdown",
   "id": "017928e5",
   "metadata": {},
   "source": [
    "# Job 0.1 \n",
    "Créer un programme demandant à l’utilisateur de renseigner un nombre entier. Votre\n",
    "programme devra calculer x^n, où n est le nombre fourni par l’utilisateur, sans utiliser de\n",
    "fonction autre que les vôtres. Attention, vous ne devez utiliser ni while, ni for, ni foreach\n",
    "ni … boucle. Seulement de la récursivité."
   ]
  },
  {
   "cell_type": "code",
   "execution_count": 2,
   "id": "7a7b273a",
   "metadata": {},
   "outputs": [
    {
     "name": "stdout",
     "output_type": "stream",
     "text": [
      "enter un entier :3\n"
     ]
    },
    {
     "data": {
      "text/plain": [
       "27"
      ]
     },
     "execution_count": 2,
     "metadata": {},
     "output_type": "execute_result"
    }
   ],
   "source": [
    "n=int(input('enter un entier :'))\n",
    "\n",
    "def puissance(n,x):\n",
    "    if n==0:\n",
    "        return 1\n",
    "    else : \n",
    "        return x*puissance(n-1,x)\n",
    "\n",
    "puissance(n,3)\n"
   ]
  },
  {
   "cell_type": "markdown",
   "id": "03f3c2e6",
   "metadata": {},
   "source": [
    "# Job 03\n",
    "Créer un programme qui modélise un plateau de jeu, carré, de n x n cases. Placez sur ce\n",
    "plateau n dames de jeu d'échecs, de manière à ce qu’aucune dame ne puisse se\n",
    "“prendre”, quand cela est possible. La valeur de n est renseignée par l’utilisateur. Quand\n",
    "cela est possible, le programme devra afficher dans le terminal le plateau de jeu avec le\n",
    "caractère ‘O’ pour les cases vides et le caractère ‘X’ pour représenter les dames.\n"
   ]
  },
  {
   "cell_type": "code",
   "execution_count": 10,
   "id": "792dfb06",
   "metadata": {},
   "outputs": [
    {
     "name": "stdout",
     "output_type": "stream",
     "text": [
      "enter un entier :2\n",
      "enter la ligner :1\n",
      "enter la colonne :1\n",
      "enter la ligner :1\n",
      "enter la colonne :1\n"
     ]
    },
    {
     "data": {
      "text/plain": [
       "'c est pas possible'"
      ]
     },
     "execution_count": 10,
     "metadata": {},
     "output_type": "execute_result"
    }
   ],
   "source": [
    "import numpy as np\n",
    "\n",
    "n=int(input('enter un entier :'))\n",
    "def jeudame(n):\n",
    "    Tableau=np.full((n,n),'o')\n",
    "    for i in range(4):\n",
    "        i=int(input('enter la ligner :'))\n",
    "        j=int(input('enter la colonne :'))\n",
    "        if Tableau[i][j]=='o':\n",
    "            Tableau[i][j]='x'\n",
    "        else: return('c est pas possible')\n",
    "    return Tableau\n",
    "\n",
    "jeudame(n) #cas oú dans la case, il y a déjà une dame "
   ]
  },
  {
   "cell_type": "code",
   "execution_count": 11,
   "id": "ff0ed836",
   "metadata": {},
   "outputs": [
    {
     "name": "stdout",
     "output_type": "stream",
     "text": [
      "enter un entier :7\n",
      "enter la ligner :1\n",
      "enter la colonne :1\n",
      "enter la ligner :2\n",
      "enter la colonne :2\n",
      "enter la ligner :3\n",
      "enter la colonne :3\n",
      "enter la ligner :4\n",
      "enter la colonne :4\n"
     ]
    },
    {
     "data": {
      "text/plain": [
       "array([['o', 'o', 'o', 'o', 'o', 'o', 'o'],\n",
       "       ['o', 'x', 'o', 'o', 'o', 'o', 'o'],\n",
       "       ['o', 'o', 'x', 'o', 'o', 'o', 'o'],\n",
       "       ['o', 'o', 'o', 'x', 'o', 'o', 'o'],\n",
       "       ['o', 'o', 'o', 'o', 'x', 'o', 'o'],\n",
       "       ['o', 'o', 'o', 'o', 'o', 'o', 'o'],\n",
       "       ['o', 'o', 'o', 'o', 'o', 'o', 'o']], dtype='<U1')"
      ]
     },
     "execution_count": 11,
     "metadata": {},
     "output_type": "execute_result"
    }
   ],
   "source": [
    "n=int(input('enter un entier :'))\n",
    "jeudame(n)\n"
   ]
  },
  {
   "cell_type": "code",
   "execution_count": null,
   "id": "706494c1",
   "metadata": {},
   "outputs": [],
   "source": []
  }
 ],
 "metadata": {
  "kernelspec": {
   "display_name": "Python 3 (ipykernel)",
   "language": "python",
   "name": "python3"
  },
  "language_info": {
   "codemirror_mode": {
    "name": "ipython",
    "version": 3
   },
   "file_extension": ".py",
   "mimetype": "text/x-python",
   "name": "python",
   "nbconvert_exporter": "python",
   "pygments_lexer": "ipython3",
   "version": "3.9.7"
  }
 },
 "nbformat": 4,
 "nbformat_minor": 5
}
